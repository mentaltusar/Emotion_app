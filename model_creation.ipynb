{
 "cells": [
  {
   "cell_type": "markdown",
   "id": "b745cddc",
   "metadata": {},
   "source": [
    "# Emotion Detection"
   ]
  },
  {
   "cell_type": "markdown",
   "id": "ad1be95b",
   "metadata": {},
   "source": [
    "**Importing Libraries**"
   ]
  },
  {
   "cell_type": "code",
   "execution_count": null,
   "id": "f1bf451c",
   "metadata": {},
   "outputs": [],
   "source": [
    "import matplotlib.pyplot as plt\n",
    "from glob import glob\n",
    "import cv2\n",
    "import random\n",
    "import os\n",
    "%matplotlib inline\n",
    "from tensorflow.keras.preprocessing.image import ImageDataGenerator\n",
    "from tensorflow.keras.layers import Dense,Input,Dropout,Flatten\n",
    "from tensorflow.keras.layers import Conv2D\n",
    "from tensorflow.keras.layers import BatchNormalization,Activation,MaxPooling2D\n",
    "from tensorflow.keras.models import Model,Sequential\n",
    "from tensorflow.keras.optimizers import Adam\n",
    "from tensorflow.keras.callbacks import ModelCheckpoint,ReduceLROnPlateau\n",
    "from tensorflow.keras.utils import plot_model\n",
    "\n",
    "from IPython.display import SVG,Image\n",
    "import tensorflow as tf\n",
    "print(\"TensorFlow Version:\",tf.__version__)"
   ]
  },
  {
   "cell_type": "markdown",
   "id": "6be1769c",
   "metadata": {},
   "source": [
    "**Exploring Dataset**"
   ]
  },
  {
   "cell_type": "code",
   "execution_count": null,
   "id": "da2f0b4e",
   "metadata": {},
   "outputs": [],
   "source": [
    "images=glob(\"train/**/**\")\n",
    "for i in range(9):\n",
    "    plotnumber=331\n",
    "    image=random.choice(images)\n",
    "    plt.figure(figsize=(12,12))\n",
    "    plt.subplot(plotnumber)\n",
    "    plotnumber+=1\n",
    "    plt.imshow(cv2.imread(image))"
   ]
  },
  {
   "cell_type": "markdown",
   "id": "bcd223e5",
   "metadata": {},
   "source": [
    "**prepair data For Training**"
   ]
  },
  {
   "cell_type": "code",
   "execution_count": null,
   "id": "bf31300a",
   "metadata": {},
   "outputs": [],
   "source": [
    "img_size=48\n",
    "batch_size=64\n",
    "datagen_train=ImageDataGenerator()\n",
    "validation_generator=datagen_train.flow_from_directory(\"train/\",color_mode=\"grayscale\",target_size=(img_size,img_size),batch_size=batch_size,class_mode=\"categorical\",shuffle=True)\n",
    "datagen_validation=ImageDataGenerator()\n",
    "validation_generator=datagen_train.flow_from_directory(\"test/\",color_mode=\"grayscale\",target_size=(img_size,img_size),batch_size=batch_size,class_mode=\"categorical\",shuffle=True)\n"
   ]
  },
  {
   "cell_type": "markdown",
   "id": "38c42f0b",
   "metadata": {},
   "source": [
    "**Defining model**"
   ]
  },
  {
   "cell_type": "code",
   "execution_count": null,
   "id": "aa6d9e44",
   "metadata": {},
   "outputs": [],
   "source": [
    "def convolution(input_tensor,filters,kernal_size):\n",
    "    x=conv2D(filters=filters,kernal_size=kernal_size,padding=\"same\")(input_tensor)\n",
    "    x=BatchNormalization()(x)\n",
    "    x=Activation(\"relu\")(x)\n",
    "    x=MaxPooling2D(pool_size=(2,2))(x)\n",
    "    x=Dropout(0.25)(x)\n",
    "    return x"
   ]
  },
  {
   "cell_type": "code",
   "execution_count": null,
   "id": "d758093f",
   "metadata": {},
   "outputs": [],
   "source": [
    "def denser_f(input_tensor,nodes):\n",
    "    x=Denser(nodes)(input_tensor)\n",
    "    x=BatchNormalization()(x)\n",
    "    x=Activation(\"relu\")(x)\n",
    "    x=Dropout(0.25)(x)\n",
    "    return x"
   ]
  },
  {
   "cell_type": "code",
   "execution_count": null,
   "id": "375e73cc",
   "metadata": {},
   "outputs": [],
   "source": [
    "def model_f(input_shape):\n",
    "    inputs=input(input_shape)\n",
    "    conv1=convolution(inputs,32,(3,3))\n",
    "    conv2=convolution(inputs,64,(5,5))\n",
    "    conv3=convolution(inputs,128,(3,3))\n",
    "    \n",
    "    flatten=Flatten()(conv3)\n",
    "    dens_1=denser_f(flatten,256)\n",
    "    output=Dense(7,activation=\"softmax\")(dens_1)\n",
    "    model=Model(inputs=[inputs],outputs=[output])\n",
    "    model.compile(loss=[\"categorical_crossentropy\"],optimizer=\"adam\",metrics=[\"accuracy\"])\n",
    "    \n",
    "    return model"
   ]
  },
  {
   "cell_type": "code",
   "execution_count": null,
   "id": "3b3635f2",
   "metadata": {},
   "outputs": [],
   "source": [
    "model1=model_f((48,48,1))\n",
    "model1.summary()"
   ]
  },
  {
   "cell_type": "markdown",
   "id": "8a1fd291",
   "metadata": {},
   "source": [
    "**initializing Model**"
   ]
  },
  {
   "cell_type": "code",
   "execution_count": null,
   "id": "59156243",
   "metadata": {},
   "outputs": [],
   "source": [
    "epochs=15\n",
    "steps_per_epochs=train_generator.n//train_generator.batch_size\n",
    "validation_steps=validation_generator.n//validation_generator.batch_size\n",
    "checkpoint=ModelCheckpoint(\"model_weights.h5\",monito=\"val_accuracy\",save_weights_only=True,mode=\"max\",verbose=1)\n",
    "callbacks=[checkpoint]"
   ]
  },
  {
   "cell_type": "markdown",
   "id": "d33cb2ed",
   "metadata": {},
   "source": [
    "**Training the Model**"
   ]
  },
  {
   "cell_type": "code",
   "execution_count": null,
   "id": "3844a579",
   "metadata": {},
   "outputs": [],
   "source": [
    "histroy=model.fit(\n",
    "x=train_generator,\n",
    "    steps_for_epoch=steps_for_epoch,\n",
    "    epoch=epoch,\n",
    "    validation_data=validation_generator\n",
    "    validation_steps=validation_steps,\n",
    "    callbacks=callbacks\n",
    ")\n"
   ]
  },
  {
   "cell_type": "markdown",
   "id": "ae951bd4",
   "metadata": {},
   "source": [
    "**Evaluation**"
   ]
  },
  {
   "cell_type": "code",
   "execution_count": null,
   "id": "56af0d3f",
   "metadata": {},
   "outputs": [],
   "source": [
    "model.evaluate(validation_generator)"
   ]
  },
  {
   "cell_type": "markdown",
   "id": "1e0e0526",
   "metadata": {},
   "source": [
    "**loss**"
   ]
  },
  {
   "cell_type": "code",
   "execution_count": null,
   "id": "3c0711b1",
   "metadata": {},
   "outputs": [],
   "source": [
    "plt.plot(history.History[\"loss\"])\n",
    "plt.plot(history.History[\"val_loss\"])\n",
    "plt.title(\"Model Loss\")\n",
    "plt.legend([\"Train\",\"Validation\"],loc=\"upper left\")\n",
    "plt.subplots_adjust(top=1.0,bottom=0.0,right=0.95,left=0.0,hspace=0.25,wspace=0.35)"
   ]
  },
  {
   "cell_type": "code",
   "execution_count": null,
   "id": "c11e6f8f",
   "metadata": {},
   "outputs": [],
   "source": [
    "plt.plot(history.History[\"accuracy\"])\n",
    "plt.plot(history.History[\"val_accuracy\"])\n",
    "plt.title(\"Model Loss\")\n",
    "plt.legend([\"Train\",\"Validation\"],loc=\"upper left\")\n",
    "plt.subplots_adjust(top=1.0,bottom=0.0,right=0.95,left=0.0,hspace=0.25,wspace=0.35)"
   ]
  },
  {
   "cell_type": "code",
   "execution_count": null,
   "id": "039c0339",
   "metadata": {},
   "outputs": [],
   "source": [
    "model_json=model.to_json()\n",
    "with open(\"model_data\",\"w\") as file:\n",
    "    file.write(model_json)"
   ]
  }
 ],
 "metadata": {
  "kernelspec": {
   "display_name": "Python 3 (ipykernel)",
   "language": "python",
   "name": "python3"
  },
  "language_info": {
   "codemirror_mode": {
    "name": "ipython",
    "version": 3
   },
   "file_extension": ".py",
   "mimetype": "text/x-python",
   "name": "python",
   "nbconvert_exporter": "python",
   "pygments_lexer": "ipython3",
   "version": "3.11.5"
  }
 },
 "nbformat": 4,
 "nbformat_minor": 5
}
